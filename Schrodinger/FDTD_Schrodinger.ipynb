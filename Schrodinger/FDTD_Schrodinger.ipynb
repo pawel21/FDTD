{
 "cells": [
  {
   "cell_type": "markdown",
   "metadata": {},
   "source": [
    "## Rozwiążanie równania Schrodingera za pomocą FDTD (Finite-Difference Time-Domain)\n"
   ]
  },
  {
   "cell_type": "markdown",
   "metadata": {},
   "source": [
    "Jedno wymiarowe zależne od czasu równanie Schödingera ma postać:\n",
    "\n",
    "$$ i\\hbar \\frac{\\partial \\Psi(x,t)}{\\partial t} = - \\frac{\\hbar^2}{2m} \\frac{\\partial^2 \\Psi(x,t)}{\\partial x^2} +U(x,t) \\Psi(x, t)$$ "
   ]
  },
  {
   "cell_type": "markdown",
   "metadata": {},
   "source": [
    "gdzie: $\\Psi(x, t)$ - funkcja falowa, $U(x, t)$ - potecjał w jakim porusza się cząstka, $m$ - masa cząstki, $\\hbar$ - stała Plancka. "
   ]
  },
  {
   "cell_type": "markdown",
   "metadata": {},
   "source": [
    "Funckja falowa jest funkcją zespoloną więc możemy ją wyrazić w postaci:\n",
    "\n",
    "$$\\Psi(x,t) = \\Psi_{r}(x,t) + i \\Psi_{I}(x, t)$$"
   ]
  },
  {
   "cell_type": "markdown",
   "metadata": {},
   "source": [
    "To nam pozwala na przedstawienie równania Schödingera tylko w dziedzinie rzeczywistej za pomocą dwóch równań:\n",
    "\n",
    "$$ \\hbar \\frac{\\partial \\Psi_{r}(x, t)}{\\partial t} =  - \\frac{\\hbar^2}{2m} \\frac{\\partial^2 \\Psi_{I}(x,t)}{\\partial x^2} +U(x,t) \\Psi_{I}(x, t)$$ \n",
    "\n",
    "$$ \\hbar \\frac{\\partial \\Psi_{I}(x, t)}{\\partial t} =   \\frac{\\hbar^2}{2m} \\frac{\\partial^2 \\Psi_{r}(x,t)}{\\partial x^2} - U(x,t) \\Psi_{r}(x, t)$$ "
   ]
  },
  {
   "cell_type": "markdown",
   "metadata": {},
   "source": [
    "Stosując metode różnic skończonych musimy zdefiniować siątkę, czyli zbiór \n",
    "dyskretnych punktów w przestrzeni i czasie w których będziemy szukać rozwiążania.\n",
    "Każdy punkt przestrzeny leży w odległości $\\Delta x$, a czas rózni się o $\\Delta t$.\n"
   ]
  },
  {
   "cell_type": "markdown",
   "metadata": {},
   "source": [
    "Funkję przybliżamy za pomocą metody różnic skończonych: \n",
    "\n",
    "$$ \\frac{\\partial \\Psi(x,t)}{\\partial t} \\approx \\frac{\\Psi(x,t+\\Delta t) - \\Psi(x,t)}{\\Delta t}$$\n",
    "\n",
    "$$ \\frac{\\partial^2 \\Psi(x,t)}{\\partial x^2} \\approx \\frac{\\Psi(x \\Delta x,t) - 2 \\Psi(x,t) + \\Psi(x - \\Delta x,t)}{\\Delta x^2}$$"
   ]
  },
  {
   "cell_type": "code",
   "execution_count": null,
   "metadata": {
    "collapsed": true
   },
   "outputs": [],
   "source": []
  }
 ],
 "metadata": {
  "kernelspec": {
   "display_name": "Python 3",
   "language": "python",
   "name": "python3"
  },
  "language_info": {
   "codemirror_mode": {
    "name": "ipython",
    "version": 3
   },
   "file_extension": ".py",
   "mimetype": "text/x-python",
   "name": "python",
   "nbconvert_exporter": "python",
   "pygments_lexer": "ipython3",
   "version": "3.6.0"
  }
 },
 "nbformat": 4,
 "nbformat_minor": 2
}
